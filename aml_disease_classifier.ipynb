{
 "cells": [
  {
   "cell_type": "code",
   "execution_count": 1,
   "metadata": {},
   "outputs": [],
   "source": [
    "import os\n",
    "import pandas as pd\n",
    "import numpy as np\n",
    "import csv\n",
    "\n",
    "from sklearn.neighbors import KNeighborsClassifier\n",
    "from sklearn.model_selection import cross_val_score, cross_val_predict\n",
    "from sklearn.metrics import confusion_matrix\n",
    "from sklearn.utils import shuffle\n",
    "from sklearn import metrics\n",
    "\n",
    "from PIL import Image\n",
    "import matplotlib.pyplot as plt\n",
    "%matplotlib inline"
   ]
  },
  {
   "cell_type": "code",
   "execution_count": 2,
   "metadata": {},
   "outputs": [],
   "source": [
    "# read AML dependent data for training\n",
    "dependent_data_2761_subjects = pd.read_csv(\"Dependent_Data_All_Factors_Corrected_Data_2761_Subjects_2213_AML_548_Healthy_974_AML_probsets_Predictors.csv\", index_col = [0]).transpose() "
   ]
  },
  {
   "cell_type": "code",
   "execution_count": 3,
   "metadata": {},
   "outputs": [
    {
     "data": {
      "text/plain": [
       "(2761, 974)"
      ]
     },
     "execution_count": 3,
     "metadata": {},
     "output_type": "execute_result"
    }
   ],
   "source": [
    "dependent_data_2761_subjects.shape"
   ]
  },
  {
   "cell_type": "code",
   "execution_count": 4,
   "metadata": {},
   "outputs": [
    {
     "data": {
      "text/html": [
       "<div>\n",
       "<style scoped>\n",
       "    .dataframe tbody tr th:only-of-type {\n",
       "        vertical-align: middle;\n",
       "    }\n",
       "\n",
       "    .dataframe tbody tr th {\n",
       "        vertical-align: top;\n",
       "    }\n",
       "\n",
       "    .dataframe thead th {\n",
       "        text-align: right;\n",
       "    }\n",
       "</style>\n",
       "<table border=\"1\" class=\"dataframe\">\n",
       "  <thead>\n",
       "    <tr style=\"text-align: right;\">\n",
       "      <th></th>\n",
       "      <th>200602_at</th>\n",
       "      <th>200722_s_at</th>\n",
       "      <th>200782_at</th>\n",
       "      <th>200832_s_at</th>\n",
       "      <th>200946_x_at</th>\n",
       "      <th>200974_at</th>\n",
       "      <th>200983_x_at</th>\n",
       "      <th>200986_at</th>\n",
       "      <th>200998_s_at</th>\n",
       "      <th>201015_s_at</th>\n",
       "      <th>...</th>\n",
       "      <th>242888_at</th>\n",
       "      <th>243001_at</th>\n",
       "      <th>243092_at</th>\n",
       "      <th>243384_at</th>\n",
       "      <th>243706_at</th>\n",
       "      <th>243797_at</th>\n",
       "      <th>244030_at</th>\n",
       "      <th>244043_at</th>\n",
       "      <th>244297_at</th>\n",
       "      <th>37079_at</th>\n",
       "    </tr>\n",
       "  </thead>\n",
       "  <tbody>\n",
       "    <tr>\n",
       "      <th>GSM259087</th>\n",
       "      <td>1.297539</td>\n",
       "      <td>1.392409</td>\n",
       "      <td>1.027064</td>\n",
       "      <td>0.111663</td>\n",
       "      <td>1.483360</td>\n",
       "      <td>1.449332</td>\n",
       "      <td>1.092168</td>\n",
       "      <td>1.051632</td>\n",
       "      <td>0.393156</td>\n",
       "      <td>1.148478</td>\n",
       "      <td>...</td>\n",
       "      <td>-0.774488</td>\n",
       "      <td>-0.867879</td>\n",
       "      <td>0.619717</td>\n",
       "      <td>-1.187252</td>\n",
       "      <td>-0.776018</td>\n",
       "      <td>0.641581</td>\n",
       "      <td>-0.134870</td>\n",
       "      <td>0.194044</td>\n",
       "      <td>-0.456224</td>\n",
       "      <td>-0.112474</td>\n",
       "    </tr>\n",
       "    <tr>\n",
       "      <th>GSM259088</th>\n",
       "      <td>-1.378910</td>\n",
       "      <td>1.424218</td>\n",
       "      <td>1.192688</td>\n",
       "      <td>-0.189030</td>\n",
       "      <td>1.472979</td>\n",
       "      <td>1.296810</td>\n",
       "      <td>1.998511</td>\n",
       "      <td>1.453404</td>\n",
       "      <td>0.880878</td>\n",
       "      <td>0.738508</td>\n",
       "      <td>...</td>\n",
       "      <td>-0.190250</td>\n",
       "      <td>-0.945929</td>\n",
       "      <td>0.177261</td>\n",
       "      <td>-1.125785</td>\n",
       "      <td>-0.778146</td>\n",
       "      <td>0.900601</td>\n",
       "      <td>-0.751019</td>\n",
       "      <td>0.858652</td>\n",
       "      <td>-0.025243</td>\n",
       "      <td>-0.723126</td>\n",
       "    </tr>\n",
       "    <tr>\n",
       "      <th>GSM259089</th>\n",
       "      <td>0.924651</td>\n",
       "      <td>1.382827</td>\n",
       "      <td>1.511259</td>\n",
       "      <td>0.958691</td>\n",
       "      <td>1.452452</td>\n",
       "      <td>0.534820</td>\n",
       "      <td>1.406378</td>\n",
       "      <td>1.009450</td>\n",
       "      <td>0.736137</td>\n",
       "      <td>1.239491</td>\n",
       "      <td>...</td>\n",
       "      <td>-0.643756</td>\n",
       "      <td>-0.933845</td>\n",
       "      <td>-0.091583</td>\n",
       "      <td>-0.888849</td>\n",
       "      <td>-0.574294</td>\n",
       "      <td>0.733291</td>\n",
       "      <td>-0.525242</td>\n",
       "      <td>0.158801</td>\n",
       "      <td>-0.148560</td>\n",
       "      <td>-0.301435</td>\n",
       "    </tr>\n",
       "    <tr>\n",
       "      <th>GSM259090</th>\n",
       "      <td>0.824415</td>\n",
       "      <td>1.282069</td>\n",
       "      <td>0.015030</td>\n",
       "      <td>0.145804</td>\n",
       "      <td>1.317093</td>\n",
       "      <td>1.005495</td>\n",
       "      <td>0.498802</td>\n",
       "      <td>-0.004537</td>\n",
       "      <td>0.091547</td>\n",
       "      <td>1.226556</td>\n",
       "      <td>...</td>\n",
       "      <td>-0.718261</td>\n",
       "      <td>-0.659499</td>\n",
       "      <td>0.952519</td>\n",
       "      <td>-1.081747</td>\n",
       "      <td>-0.640571</td>\n",
       "      <td>0.786002</td>\n",
       "      <td>-0.572304</td>\n",
       "      <td>-0.349141</td>\n",
       "      <td>-0.511744</td>\n",
       "      <td>-0.274177</td>\n",
       "    </tr>\n",
       "    <tr>\n",
       "      <th>GSM259091</th>\n",
       "      <td>0.934866</td>\n",
       "      <td>1.396415</td>\n",
       "      <td>1.014507</td>\n",
       "      <td>-0.076499</td>\n",
       "      <td>1.460708</td>\n",
       "      <td>1.163035</td>\n",
       "      <td>1.480175</td>\n",
       "      <td>0.979271</td>\n",
       "      <td>0.597280</td>\n",
       "      <td>0.986748</td>\n",
       "      <td>...</td>\n",
       "      <td>-0.667744</td>\n",
       "      <td>-0.738587</td>\n",
       "      <td>0.203649</td>\n",
       "      <td>-1.144351</td>\n",
       "      <td>-0.605030</td>\n",
       "      <td>0.863905</td>\n",
       "      <td>-0.462335</td>\n",
       "      <td>-0.139304</td>\n",
       "      <td>-0.245095</td>\n",
       "      <td>-0.614119</td>\n",
       "    </tr>\n",
       "  </tbody>\n",
       "</table>\n",
       "<p>5 rows × 974 columns</p>\n",
       "</div>"
      ],
      "text/plain": [
       "           200602_at  200722_s_at  200782_at  200832_s_at  200946_x_at  \\\n",
       "GSM259087   1.297539     1.392409   1.027064     0.111663     1.483360   \n",
       "GSM259088  -1.378910     1.424218   1.192688    -0.189030     1.472979   \n",
       "GSM259089   0.924651     1.382827   1.511259     0.958691     1.452452   \n",
       "GSM259090   0.824415     1.282069   0.015030     0.145804     1.317093   \n",
       "GSM259091   0.934866     1.396415   1.014507    -0.076499     1.460708   \n",
       "\n",
       "           200974_at  200983_x_at  200986_at  200998_s_at  201015_s_at  ...  \\\n",
       "GSM259087   1.449332     1.092168   1.051632     0.393156     1.148478  ...   \n",
       "GSM259088   1.296810     1.998511   1.453404     0.880878     0.738508  ...   \n",
       "GSM259089   0.534820     1.406378   1.009450     0.736137     1.239491  ...   \n",
       "GSM259090   1.005495     0.498802  -0.004537     0.091547     1.226556  ...   \n",
       "GSM259091   1.163035     1.480175   0.979271     0.597280     0.986748  ...   \n",
       "\n",
       "           242888_at  243001_at  243092_at  243384_at  243706_at  243797_at  \\\n",
       "GSM259087  -0.774488  -0.867879   0.619717  -1.187252  -0.776018   0.641581   \n",
       "GSM259088  -0.190250  -0.945929   0.177261  -1.125785  -0.778146   0.900601   \n",
       "GSM259089  -0.643756  -0.933845  -0.091583  -0.888849  -0.574294   0.733291   \n",
       "GSM259090  -0.718261  -0.659499   0.952519  -1.081747  -0.640571   0.786002   \n",
       "GSM259091  -0.667744  -0.738587   0.203649  -1.144351  -0.605030   0.863905   \n",
       "\n",
       "           244030_at  244043_at  244297_at  37079_at  \n",
       "GSM259087  -0.134870   0.194044  -0.456224 -0.112474  \n",
       "GSM259088  -0.751019   0.858652  -0.025243 -0.723126  \n",
       "GSM259089  -0.525242   0.158801  -0.148560 -0.301435  \n",
       "GSM259090  -0.572304  -0.349141  -0.511744 -0.274177  \n",
       "GSM259091  -0.462335  -0.139304  -0.245095 -0.614119  \n",
       "\n",
       "[5 rows x 974 columns]"
      ]
     },
     "execution_count": 4,
     "metadata": {},
     "output_type": "execute_result"
    }
   ],
   "source": [
    "dependent_data_2761_subjects.head()"
   ]
  },
  {
   "cell_type": "code",
   "execution_count": 5,
   "metadata": {},
   "outputs": [],
   "source": [
    "# read AML target data for training\n",
    "# aml=1 and healthy=0\n",
    "target_data_2761_subjects = pd.read_csv(\"Target_Data_All_Factors_Corrected_Data_2761_Subjects_2213_AML_548_Healthy_974_AML_probsets_Predictors.csv\", index_col = [0])"
   ]
  },
  {
   "cell_type": "code",
   "execution_count": 6,
   "metadata": {},
   "outputs": [
    {
     "data": {
      "text/plain": [
       "(2761, 1)"
      ]
     },
     "execution_count": 6,
     "metadata": {},
     "output_type": "execute_result"
    }
   ],
   "source": [
    "target_data_2761_subjects.shape"
   ]
  },
  {
   "cell_type": "code",
   "execution_count": 10,
   "metadata": {},
   "outputs": [
    {
     "data": {
      "text/html": [
       "<div>\n",
       "<style scoped>\n",
       "    .dataframe tbody tr th:only-of-type {\n",
       "        vertical-align: middle;\n",
       "    }\n",
       "\n",
       "    .dataframe tbody tr th {\n",
       "        vertical-align: top;\n",
       "    }\n",
       "\n",
       "    .dataframe thead th {\n",
       "        text-align: right;\n",
       "    }\n",
       "</style>\n",
       "<table border=\"1\" class=\"dataframe\">\n",
       "  <thead>\n",
       "    <tr style=\"text-align: right;\">\n",
       "      <th></th>\n",
       "      <th>target</th>\n",
       "    </tr>\n",
       "    <tr>\n",
       "      <th>ID_REF</th>\n",
       "      <th></th>\n",
       "    </tr>\n",
       "  </thead>\n",
       "  <tbody>\n",
       "    <tr>\n",
       "      <th>GSM259087</th>\n",
       "      <td>0</td>\n",
       "    </tr>\n",
       "    <tr>\n",
       "      <th>GSM259088</th>\n",
       "      <td>0</td>\n",
       "    </tr>\n",
       "    <tr>\n",
       "      <th>GSM259089</th>\n",
       "      <td>0</td>\n",
       "    </tr>\n",
       "    <tr>\n",
       "      <th>GSM259090</th>\n",
       "      <td>0</td>\n",
       "    </tr>\n",
       "    <tr>\n",
       "      <th>GSM259091</th>\n",
       "      <td>0</td>\n",
       "    </tr>\n",
       "  </tbody>\n",
       "</table>\n",
       "</div>"
      ],
      "text/plain": [
       "           target\n",
       "ID_REF           \n",
       "GSM259087       0\n",
       "GSM259088       0\n",
       "GSM259089       0\n",
       "GSM259090       0\n",
       "GSM259091       0"
      ]
     },
     "execution_count": 10,
     "metadata": {},
     "output_type": "execute_result"
    }
   ],
   "source": [
    "target_data_2761_subjects.head()"
   ]
  },
  {
   "cell_type": "code",
   "execution_count": 12,
   "metadata": {},
   "outputs": [
    {
     "data": {
      "text/plain": [
       "array([0, 0, 0, ..., 1, 1, 1])"
      ]
     },
     "execution_count": 12,
     "metadata": {},
     "output_type": "execute_result"
    }
   ],
   "source": [
    "y = target_data_2761_subjects[\"target\"].values\n",
    "y"
   ]
  },
  {
   "cell_type": "code",
   "execution_count": 14,
   "metadata": {},
   "outputs": [],
   "source": [
    "# set algorthm parameters -- all points in each neighborhood are weighted equally (\"uniform\")\n",
    "knn_classifier = KNeighborsClassifier(n_neighbors = 30, weights = \"uniform\", algorithm = \"auto\", \n",
    "                                      leaf_size = 30, p = 4, metric = \"minkowski\", \n",
    "                                      metric_params = None, n_jobs = 1)"
   ]
  },
  {
   "cell_type": "code",
   "execution_count": 15,
   "metadata": {},
   "outputs": [
    {
     "name": "stdout",
     "output_type": "stream",
     "text": [
      "Accuracy: 97.93 (+/- 0.03)\n"
     ]
    }
   ],
   "source": [
    "scores = cross_val_score (knn_classifier, dependent_data_2761_subjects, y, \n",
    "                          cv = 10, scoring=\"accuracy\")\n",
    "print(\"Accuracy: %0.2f (+/- %0.2f)\" % (scores.mean() * 100, scores.std() * 2))"
   ]
  },
  {
   "cell_type": "code",
   "execution_count": 39,
   "metadata": {},
   "outputs": [
    {
     "name": "stdout",
     "output_type": "stream",
     "text": [
      "k: 1 ; Accuracy: 99.60 (+/- 0.02)\n",
      "k: 6 ; Accuracy: 99.71 (+/- 0.01)\n",
      "k: 11 ; Accuracy: 99.67 (+/- 0.01)\n",
      "k: 16 ; Accuracy: 99.67 (+/- 0.01)\n",
      "k: 21 ; Accuracy: 99.53 (+/- 0.01)\n",
      "k: 26 ; Accuracy: 99.53 (+/- 0.01)\n",
      "k: 31 ; Accuracy: 99.42 (+/- 0.02)\n",
      "k: 36 ; Accuracy: 99.46 (+/- 0.02)\n",
      "k: 41 ; Accuracy: 99.38 (+/- 0.02)\n",
      "k: 46 ; Accuracy: 99.35 (+/- 0.02)\n"
     ]
    }
   ],
   "source": [
    "# test different power parameter for the Minkowski metric\n",
    "n_neighbors = range(1, 50,5)\n",
    "k_scores = []\n",
    "k_st = []\n",
    "for k in n_neighbors:\n",
    "\n",
    "    knn_classifier = KNeighborsClassifier(n_neighbors = k, weights = \"uniform\", algorithm = \"auto\",\n",
    "                                          leaf_size = 1, p = 1, metric = \"minkowski\", \n",
    "                                          metric_params = None, n_jobs = 1)\n",
    "    scores = cross_val_score (knn_classifier, dependent_data_2761_subjects, y, cv = 10, \n",
    "                              scoring=\"accuracy\")\n",
    "    scores_percent = scores.mean()*100\n",
    "    k_scores.append(scores_percent), k_st.append(scores.std())\n",
    "    print(\"k:\", k, \"; Accuracy: %0.2f (+/- %0.2f)\" % (scores.mean() * 100, scores.std() * 2))"
   ]
  },
  {
   "cell_type": "code",
   "execution_count": 40,
   "metadata": {},
   "outputs": [
    {
     "name": "stdout",
     "output_type": "stream",
     "text": [
      "means:  [99.60144927536231, 99.71014492753622, 99.67391304347825, 99.67391304347825, 99.52898550724638, 99.52898550724638, 99.42028985507247, 99.45652173913044, 99.3840579710145, 99.34782608695653]\n",
      "std: [0.008489401821637672, 0.00644072059225767, 0.0063689839968286, 0.0063689839968286, 0.007255429128442314, 0.007255429128442314, 0.0078045866770065225, 0.007812992265524569, 0.008270081311966174, 0.008845330156328768]\n"
     ]
    }
   ],
   "source": [
    "print(\"means: \",k_scores)\n",
    "print(\"std:\",k_st)"
   ]
  },
  {
   "cell_type": "code",
   "execution_count": 62,
   "metadata": {},
   "outputs": [
    {
     "data": {
      "text/plain": [
       "range"
      ]
     },
     "execution_count": 62,
     "metadata": {},
     "output_type": "execute_result"
    }
   ],
   "source": [
    "type(range(1,11))"
   ]
  },
  {
   "cell_type": "code",
   "execution_count": 69,
   "metadata": {},
   "outputs": [
    {
     "data": {
      "image/png": "[encoded data removed]",
      "text/plain": [
       "<Figure size 1000x1000 with 1 Axes>"
      ]
     },
     "metadata": {},
     "output_type": "display_data"
    }
   ],
   "source": [
    "fig_size = plt.rcParams[\"figure.figsize\"] \n",
    "fig_size[0] = 10  \n",
    "fig_size[1] = 10\n",
    "\n",
    "ax = plt.axes()\n",
    "\n",
    "plt.errorbar(range(1, 50,5), k_scores, k_st, marker='.')\n",
    "plt.ylim(99, 100)\n",
    "\n",
    "plt.xlabel(\"Value of k for KNN\")\n",
    "plt.ylabel(\"Cross-validated Accuracy '%'\")\n",
    "ax.set_xticks(range(1, 50,5))\n",
    "\n",
    "title = \"AML_DiseaseSate_KNN-Classification_Trained_on_974_ProbSets_from_2761_Subjects-knn_number.png\"\n",
    "\n",
    "plt.savefig(title,bbox_inches='tight')\n",
    "plt.show() "
   ]
  },
  {
   "cell_type": "code",
   "execution_count": 49,
   "metadata": {},
   "outputs": [],
   "source": [
    "predict = cross_val_predict (knn_classifier, dependent_data_2761_subjects, y, cv = 10)\n"
   ]
  },
  {
   "cell_type": "code",
   "execution_count": 51,
   "metadata": {},
   "outputs": [
    {
     "data": {
      "text/plain": [
       "array([0, 0, 0, ..., 1, 1, 1])"
      ]
     },
     "execution_count": 51,
     "metadata": {},
     "output_type": "execute_result"
    }
   ],
   "source": [
    "predict"
   ]
  },
  {
   "cell_type": "code",
   "execution_count": 54,
   "metadata": {},
   "outputs": [
    {
     "data": {
      "text/plain": [
       "'AUC Score: 99.59%'"
      ]
     },
     "execution_count": 54,
     "metadata": {},
     "output_type": "execute_result"
    }
   ],
   "source": [
    "# AUC (Area under the ROC Curve) ranges from 0 (worst) to 1 (best)\n",
    "auc_score = metrics.roc_auc_score(y, predict)\n",
    "\"AUC Score: %0.2f%%\" % (auc_score * 100)"
   ]
  },
  {
   "cell_type": "code",
   "execution_count": 50,
   "metadata": {},
   "outputs": [
    {
     "data": {
      "text/plain": [
       "'Accuracy Score: 99.35%'"
      ]
     },
     "execution_count": 50,
     "metadata": {},
     "output_type": "execute_result"
    }
   ],
   "source": [
    "accuracy_score = metrics.accuracy_score(y, predict) \n",
    "\"Accuracy Score: %0.2f%%\" % (accuracy_score * 100)"
   ]
  },
  {
   "cell_type": "code",
   "execution_count": 51,
   "metadata": {},
   "outputs": [
    {
     "data": {
      "text/plain": [
       "array([[2195,   18],\n",
       "       [   0,  548]])"
      ]
     },
     "execution_count": 51,
     "metadata": {},
     "output_type": "execute_result"
    }
   ],
   "source": [
    "confusion_matrix_result = confusion_matrix(y,predict)\n",
    "confusion_matrix_result"
   ]
  },
  {
   "cell_type": "code",
   "execution_count": 55,
   "metadata": {},
   "outputs": [],
   "source": [
    "TP = confusion_matrix_result[1, 1]\n",
    "TN = confusion_matrix_result[0, 0]\n",
    "FP = confusion_matrix_result[0, 1]\n",
    "FN = confusion_matrix_result[1, 0]\n",
    "\n",
    "error = round((FP+FN)/(TP+TN+FP+FN)*100,2)\n",
    "specificity = round(TN/(TN+FP)*100,2)\n",
    "sensitivity = round(TP/(TP+FN)*100,2)\n",
    "precision = round(TP/(TP+FP)*100,2)"
   ]
  },
  {
   "cell_type": "code",
   "execution_count": 57,
   "metadata": {},
   "outputs": [],
   "source": [
    "\n",
    "\n",
    "fields=['Accuracy','Error',\"Specificity\",\"Sensitivity\",\"Precision\",\"AUC Score\"]\n",
    "with open(r'AML_DiseaseSate_KNN-Classification_Trained_on_974_ProbSets_from_2761_Subjects-Accuracy.csv', 'w') as f:\n",
    "    writer = csv.writer(f)\n",
    "    writer.writerow(fields)\n",
    "\n",
    "confusion_matrix_result_List = [\"Avg. Accuracy (%%): %0.2f (+/- %0.2f)\" % (scores.mean() * 100,\n",
    "                                scores.std() * 2),\n",
    "                                error, \n",
    "                                specificity,\n",
    "                                sensitivity,\n",
    "                                precision,\n",
    "                               \"AUC Score (%%): %0.2f\" % (auc_score * 100)]\n",
    "with open(r'AML_DiseaseSate_KNN-Classification_Trained_on_974_ProbSets_from_2761_Subjects-Accuracy.csv', 'a') as f:\n",
    "    writer = csv.writer(f)\n",
    "    writer.writerow(confusion_matrix_result_List)"
   ]
  },
  {
   "cell_type": "code",
   "execution_count": 60,
   "metadata": {},
   "outputs": [
    {
     "data": {
      "image/png": "[encoded data removed]",
      "text/plain": [
       "<Figure size 1000x1000 with 1 Axes>"
      ]
     },
     "metadata": {},
     "output_type": "display_data"
    }
   ],
   "source": [
    "fig_size = plt.rcParams[\"figure.figsize\"] \n",
    "fig_size[0] = 10  \n",
    "fig_size[1] = 10\n",
    "\n",
    "\n",
    "\n",
    "\n",
    "fpr, tpr, thresholds = metrics.roc_curve(y, predict)\n",
    "metrics.auc(fpr, tpr)\n",
    "plt.plot(fpr, tpr)\n",
    "plt.xlabel('False Positive Rate (1 - specificity)',fontsize=20)\n",
    "plt.ylabel('True Positive Rate (sensitivity)',fontsize=20)\n",
    "\n",
    "plt.xticks(fontsize=15)\n",
    "plt.yticks(fontsize=15)\n",
    "\n",
    "\n",
    "# plt.title('ROC curve for AML KNN-classifier')\n",
    "plt.grid(linestyle='dotted')\n",
    "\n",
    "\n",
    "title = \"AML_DiseaseSate_KNN-Classification_Trained_on_974_ProbSets_from_2761_Subjects-ROC_Curve.png\"\n",
    "\n",
    "plt.savefig(title,bbox_inches='tight')\n",
    "plt.show() \n"
   ]
  }
 ],
 "metadata": {
  "kernelspec": {
   "display_name": "Python 3.10.6 64-bit",
   "language": "python",
   "name": "python3"
  },
  "language_info": {
   "codemirror_mode": {
    "name": "ipython",
    "version": 3
   },
   "file_extension": ".py",
   "mimetype": "text/x-python",
   "name": "python",
   "nbconvert_exporter": "python",
   "pygments_lexer": "ipython3",
   "version": "3.10.6"
  },
  "vscode": {
   "interpreter": {
    "hash": "31f2aee4e71d21fbe5cf8b01ff0e069b9275f58929596ceb00d14d90e3e16cd6"
   }
  }
 },
 "nbformat": 4,
 "nbformat_minor": 2
}
