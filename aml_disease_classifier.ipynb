{
 "cells": [
  {
   "cell_type": "code",
   "execution_count": 35,
   "metadata": {},
   "outputs": [],
   "source": [
    "import pandas as pd\n",
    "import numpy as np\n",
    "import matplotlib.pyplot as plt\n",
    "%matplotlib inline\n",
    "from PIL import Image\n",
    "\n",
    "\n",
    "import os\n",
    "os.chdir(\"/Volumes/RaMain/LabNotebooks_Raeuf/PhD Project/PhDThesis/Scientific_Reports/Paper_AfterReviews/AML_classification_training_and_testing\")\n",
    "\n"
   ]
  },
  {
   "cell_type": "code",
   "execution_count": 2,
   "metadata": {},
   "outputs": [],
   "source": [
    "from sklearn.neighbors import KNeighborsClassifier\n",
    "\n",
    "from sklearn.metrics import confusion_matrix\n",
    "from sklearn import metrics\n",
    "\n",
    "from sklearn.model_selection import cross_val_score, cross_val_predict\n"
   ]
  },
  {
   "cell_type": "code",
   "execution_count": 3,
   "metadata": {},
   "outputs": [],
   "source": [
    "read_dependent_file = pd.read_csv(\"2761_Dependent_Data_Subjects_with_Disease_State_AML_or_Healthy_Info_Corrected_for_All_Factors_Datasetwise_2213_AML_1st_548_Healthy_2nd_with_974_AML_probsets_predictors.csv\", index_col = [0]).transpose() \n"
   ]
  },
  {
   "cell_type": "code",
   "execution_count": 4,
   "metadata": {},
   "outputs": [
    {
     "name": "stdout",
     "output_type": "stream",
     "text": [
      "(2761, 974)\n"
     ]
    },
    {
     "data": {
      "text/html": [
       "<div>\n",
       "<style scoped>\n",
       "    .dataframe tbody tr th:only-of-type {\n",
       "        vertical-align: middle;\n",
       "    }\n",
       "\n",
       "    .dataframe tbody tr th {\n",
       "        vertical-align: top;\n",
       "    }\n",
       "\n",
       "    .dataframe thead th {\n",
       "        text-align: right;\n",
       "    }\n",
       "</style>\n",
       "<table border=\"1\" class=\"dataframe\">\n",
       "  <thead>\n",
       "    <tr style=\"text-align: right;\">\n",
       "      <th></th>\n",
       "      <th>200602_at</th>\n",
       "      <th>200722_s_at</th>\n",
       "      <th>200782_at</th>\n",
       "      <th>200832_s_at</th>\n",
       "      <th>200946_x_at</th>\n",
       "      <th>200974_at</th>\n",
       "      <th>200983_x_at</th>\n",
       "      <th>200986_at</th>\n",
       "      <th>200998_s_at</th>\n",
       "      <th>201015_s_at</th>\n",
       "      <th>...</th>\n",
       "      <th>242888_at</th>\n",
       "      <th>243001_at</th>\n",
       "      <th>243092_at</th>\n",
       "      <th>243384_at</th>\n",
       "      <th>243706_at</th>\n",
       "      <th>243797_at</th>\n",
       "      <th>244030_at</th>\n",
       "      <th>244043_at</th>\n",
       "      <th>244297_at</th>\n",
       "      <th>37079_at</th>\n",
       "    </tr>\n",
       "  </thead>\n",
       "  <tbody>\n",
       "    <tr>\n",
       "      <th>GSM259087</th>\n",
       "      <td>1.297539</td>\n",
       "      <td>1.392409</td>\n",
       "      <td>1.027064</td>\n",
       "      <td>0.111663</td>\n",
       "      <td>1.483360</td>\n",
       "      <td>1.449332</td>\n",
       "      <td>1.092168</td>\n",
       "      <td>1.051632</td>\n",
       "      <td>0.393156</td>\n",
       "      <td>1.148478</td>\n",
       "      <td>...</td>\n",
       "      <td>-0.774488</td>\n",
       "      <td>-0.867879</td>\n",
       "      <td>0.619717</td>\n",
       "      <td>-1.187252</td>\n",
       "      <td>-0.776018</td>\n",
       "      <td>0.641581</td>\n",
       "      <td>-0.134870</td>\n",
       "      <td>0.194044</td>\n",
       "      <td>-0.456224</td>\n",
       "      <td>-0.112474</td>\n",
       "    </tr>\n",
       "    <tr>\n",
       "      <th>GSM259088</th>\n",
       "      <td>-1.378910</td>\n",
       "      <td>1.424218</td>\n",
       "      <td>1.192688</td>\n",
       "      <td>-0.189030</td>\n",
       "      <td>1.472979</td>\n",
       "      <td>1.296810</td>\n",
       "      <td>1.998511</td>\n",
       "      <td>1.453404</td>\n",
       "      <td>0.880878</td>\n",
       "      <td>0.738508</td>\n",
       "      <td>...</td>\n",
       "      <td>-0.190250</td>\n",
       "      <td>-0.945929</td>\n",
       "      <td>0.177261</td>\n",
       "      <td>-1.125785</td>\n",
       "      <td>-0.778146</td>\n",
       "      <td>0.900601</td>\n",
       "      <td>-0.751019</td>\n",
       "      <td>0.858652</td>\n",
       "      <td>-0.025243</td>\n",
       "      <td>-0.723126</td>\n",
       "    </tr>\n",
       "    <tr>\n",
       "      <th>GSM259089</th>\n",
       "      <td>0.924651</td>\n",
       "      <td>1.382827</td>\n",
       "      <td>1.511259</td>\n",
       "      <td>0.958691</td>\n",
       "      <td>1.452452</td>\n",
       "      <td>0.534820</td>\n",
       "      <td>1.406378</td>\n",
       "      <td>1.009450</td>\n",
       "      <td>0.736137</td>\n",
       "      <td>1.239491</td>\n",
       "      <td>...</td>\n",
       "      <td>-0.643756</td>\n",
       "      <td>-0.933845</td>\n",
       "      <td>-0.091583</td>\n",
       "      <td>-0.888849</td>\n",
       "      <td>-0.574294</td>\n",
       "      <td>0.733291</td>\n",
       "      <td>-0.525242</td>\n",
       "      <td>0.158801</td>\n",
       "      <td>-0.148560</td>\n",
       "      <td>-0.301435</td>\n",
       "    </tr>\n",
       "    <tr>\n",
       "      <th>GSM259090</th>\n",
       "      <td>0.824415</td>\n",
       "      <td>1.282069</td>\n",
       "      <td>0.015030</td>\n",
       "      <td>0.145804</td>\n",
       "      <td>1.317093</td>\n",
       "      <td>1.005495</td>\n",
       "      <td>0.498802</td>\n",
       "      <td>-0.004537</td>\n",
       "      <td>0.091547</td>\n",
       "      <td>1.226556</td>\n",
       "      <td>...</td>\n",
       "      <td>-0.718261</td>\n",
       "      <td>-0.659499</td>\n",
       "      <td>0.952519</td>\n",
       "      <td>-1.081747</td>\n",
       "      <td>-0.640571</td>\n",
       "      <td>0.786002</td>\n",
       "      <td>-0.572304</td>\n",
       "      <td>-0.349141</td>\n",
       "      <td>-0.511744</td>\n",
       "      <td>-0.274177</td>\n",
       "    </tr>\n",
       "    <tr>\n",
       "      <th>GSM259091</th>\n",
       "      <td>0.934866</td>\n",
       "      <td>1.396415</td>\n",
       "      <td>1.014507</td>\n",
       "      <td>-0.076499</td>\n",
       "      <td>1.460708</td>\n",
       "      <td>1.163035</td>\n",
       "      <td>1.480175</td>\n",
       "      <td>0.979271</td>\n",
       "      <td>0.597280</td>\n",
       "      <td>0.986748</td>\n",
       "      <td>...</td>\n",
       "      <td>-0.667744</td>\n",
       "      <td>-0.738587</td>\n",
       "      <td>0.203649</td>\n",
       "      <td>-1.144351</td>\n",
       "      <td>-0.605030</td>\n",
       "      <td>0.863905</td>\n",
       "      <td>-0.462335</td>\n",
       "      <td>-0.139304</td>\n",
       "      <td>-0.245095</td>\n",
       "      <td>-0.614119</td>\n",
       "    </tr>\n",
       "  </tbody>\n",
       "</table>\n",
       "<p>5 rows × 974 columns</p>\n",
       "</div>"
      ],
      "text/plain": [
       "           200602_at  200722_s_at  200782_at  200832_s_at  200946_x_at  \\\n",
       "GSM259087   1.297539     1.392409   1.027064     0.111663     1.483360   \n",
       "GSM259088  -1.378910     1.424218   1.192688    -0.189030     1.472979   \n",
       "GSM259089   0.924651     1.382827   1.511259     0.958691     1.452452   \n",
       "GSM259090   0.824415     1.282069   0.015030     0.145804     1.317093   \n",
       "GSM259091   0.934866     1.396415   1.014507    -0.076499     1.460708   \n",
       "\n",
       "           200974_at  200983_x_at  200986_at  200998_s_at  201015_s_at  ...  \\\n",
       "GSM259087   1.449332     1.092168   1.051632     0.393156     1.148478  ...   \n",
       "GSM259088   1.296810     1.998511   1.453404     0.880878     0.738508  ...   \n",
       "GSM259089   0.534820     1.406378   1.009450     0.736137     1.239491  ...   \n",
       "GSM259090   1.005495     0.498802  -0.004537     0.091547     1.226556  ...   \n",
       "GSM259091   1.163035     1.480175   0.979271     0.597280     0.986748  ...   \n",
       "\n",
       "           242888_at  243001_at  243092_at  243384_at  243706_at  243797_at  \\\n",
       "GSM259087  -0.774488  -0.867879   0.619717  -1.187252  -0.776018   0.641581   \n",
       "GSM259088  -0.190250  -0.945929   0.177261  -1.125785  -0.778146   0.900601   \n",
       "GSM259089  -0.643756  -0.933845  -0.091583  -0.888849  -0.574294   0.733291   \n",
       "GSM259090  -0.718261  -0.659499   0.952519  -1.081747  -0.640571   0.786002   \n",
       "GSM259091  -0.667744  -0.738587   0.203649  -1.144351  -0.605030   0.863905   \n",
       "\n",
       "           244030_at  244043_at  244297_at  37079_at  \n",
       "GSM259087  -0.134870   0.194044  -0.456224 -0.112474  \n",
       "GSM259088  -0.751019   0.858652  -0.025243 -0.723126  \n",
       "GSM259089  -0.525242   0.158801  -0.148560 -0.301435  \n",
       "GSM259090  -0.572304  -0.349141  -0.511744 -0.274177  \n",
       "GSM259091  -0.462335  -0.139304  -0.245095 -0.614119  \n",
       "\n",
       "[5 rows x 974 columns]"
      ]
     },
     "execution_count": 4,
     "metadata": {},
     "output_type": "execute_result"
    }
   ],
   "source": [
    "print(read_dependent_file.shape)\n",
    "read_dependent_file.head()"
   ]
  },
  {
   "cell_type": "code",
   "execution_count": 5,
   "metadata": {},
   "outputs": [],
   "source": [
    "read_target_file = pd.read_csv(\"2761_Target_Data_For_Dependent_Data_Subjects_with_Disease_State_AML_or_Healthy_Info_Corrected_for_All_Factors_Datasetwise_2213_AML_1st_548_Healthy_2nd_with_974_AML_probsets_predictors.csv\", index_col = [0])\n"
   ]
  },
  {
   "cell_type": "code",
   "execution_count": 6,
   "metadata": {},
   "outputs": [
    {
     "name": "stdout",
     "output_type": "stream",
     "text": [
      "(2761, 1)\n"
     ]
    },
    {
     "data": {
      "text/html": [
       "<div>\n",
       "<style scoped>\n",
       "    .dataframe tbody tr th:only-of-type {\n",
       "        vertical-align: middle;\n",
       "    }\n",
       "\n",
       "    .dataframe tbody tr th {\n",
       "        vertical-align: top;\n",
       "    }\n",
       "\n",
       "    .dataframe thead th {\n",
       "        text-align: right;\n",
       "    }\n",
       "</style>\n",
       "<table border=\"1\" class=\"dataframe\">\n",
       "  <thead>\n",
       "    <tr style=\"text-align: right;\">\n",
       "      <th></th>\n",
       "      <th>target</th>\n",
       "    </tr>\n",
       "    <tr>\n",
       "      <th>ID_REF</th>\n",
       "      <th></th>\n",
       "    </tr>\n",
       "  </thead>\n",
       "  <tbody>\n",
       "    <tr>\n",
       "      <th>GSM259087</th>\n",
       "      <td>0</td>\n",
       "    </tr>\n",
       "    <tr>\n",
       "      <th>GSM259088</th>\n",
       "      <td>0</td>\n",
       "    </tr>\n",
       "    <tr>\n",
       "      <th>GSM259089</th>\n",
       "      <td>0</td>\n",
       "    </tr>\n",
       "    <tr>\n",
       "      <th>GSM259090</th>\n",
       "      <td>0</td>\n",
       "    </tr>\n",
       "    <tr>\n",
       "      <th>GSM259091</th>\n",
       "      <td>0</td>\n",
       "    </tr>\n",
       "  </tbody>\n",
       "</table>\n",
       "</div>"
      ],
      "text/plain": [
       "           target\n",
       "ID_REF           \n",
       "GSM259087       0\n",
       "GSM259088       0\n",
       "GSM259089       0\n",
       "GSM259090       0\n",
       "GSM259091       0"
      ]
     },
     "execution_count": 6,
     "metadata": {},
     "output_type": "execute_result"
    }
   ],
   "source": [
    "print(read_target_file.shape)\n",
    "read_target_file.head()"
   ]
  },
  {
   "cell_type": "code",
   "execution_count": 7,
   "metadata": {},
   "outputs": [],
   "source": [
    "y = read_target_file[\"target\"].values\n"
   ]
  },
  {
   "cell_type": "code",
   "execution_count": 8,
   "metadata": {},
   "outputs": [
    {
     "data": {
      "text/plain": [
       "array([0, 0, 0, ..., 1, 1, 1])"
      ]
     },
     "execution_count": 8,
     "metadata": {},
     "output_type": "execute_result"
    }
   ],
   "source": [
    "y"
   ]
  },
  {
   "cell_type": "code",
   "execution_count": 9,
   "metadata": {},
   "outputs": [
    {
     "data": {
      "text/plain": [
       "(2761,)"
      ]
     },
     "execution_count": 9,
     "metadata": {},
     "output_type": "execute_result"
    }
   ],
   "source": [
    "y.shape"
   ]
  },
  {
   "cell_type": "code",
   "execution_count": 10,
   "metadata": {},
   "outputs": [],
   "source": [
    "selected_classifier = KNeighborsClassifier(n_neighbors = 30,\n",
    "                                           weights = \"uniform\",\n",
    "                                           algorithm = \"auto\",\n",
    "                                           leaf_size = 30,\n",
    "                                           p = 4,\n",
    "                                           metric = \"minkowski\",\n",
    "                                           metric_params = None,\n",
    "                                           n_jobs = 1)"
   ]
  },
  {
   "cell_type": "code",
   "execution_count": 11,
   "metadata": {},
   "outputs": [],
   "source": [
    "scores = cross_val_score (selected_classifier,\n",
    "                          read_dependent_file,\n",
    "                          y,\n",
    "                          cv = 10,\n",
    "                          scoring=\"accuracy\")"
   ]
  },
  {
   "cell_type": "code",
   "execution_count": 12,
   "metadata": {
    "scrolled": false
   },
   "outputs": [
    {
     "data": {
      "text/plain": [
       "array([0.99638989, 0.98194946, 1.        , 0.98550725, 0.94927536,\n",
       "       0.95289855, 1.        , 0.98550725, 0.97454545, 0.96727273])"
      ]
     },
     "execution_count": 12,
     "metadata": {},
     "output_type": "execute_result"
    }
   ],
   "source": [
    "scores\n"
   ]
  },
  {
   "cell_type": "code",
   "execution_count": 13,
   "metadata": {},
   "outputs": [
    {
     "data": {
      "text/plain": [
       "'Classification Accuracy:  97.93% (+/- 0.02)'"
      ]
     },
     "execution_count": 13,
     "metadata": {},
     "output_type": "execute_result"
    }
   ],
   "source": [
    "\"%s %0.2f%s (+/- %0.2f)\" % (\"Classification Accuracy: \", scores.mean()*100, \"%\", scores.std())\n",
    "\n"
   ]
  },
  {
   "cell_type": "code",
   "execution_count": 17,
   "metadata": {},
   "outputs": [
    {
     "name": "stdout",
     "output_type": "stream",
     "text": [
      "1 99.67391304347825 0.00750446202072753\n",
      "2 99.347561631065 0.008069462932553586\n",
      "3 98.83978729375058 0.011206393551192535\n",
      "4 98.44097116194119 0.014047991219857862\n"
     ]
    }
   ],
   "source": [
    "leaf_size_range = range(1, 5)\n",
    "k_scores = []\n",
    "k_st = []\n",
    "\n",
    "for l in leaf_size_range:\n",
    "    knn_classifier = KNeighborsClassifier(n_neighbors = 5,\n",
    "                                           weights = \"uniform\",\n",
    "                                           algorithm = \"auto\",\n",
    "                                           leaf_size = 1,\n",
    "                                           p = l,\n",
    "                                           metric = \"minkowski\",\n",
    "                                           metric_params = None,\n",
    "                                           n_jobs = 1)\n",
    "    scores = cross_val_score (knn_classifier,\n",
    "                          read_dependent_file,\n",
    "                          y,\n",
    "                          cv = 10,\n",
    "                          scoring=\"accuracy\")\n",
    "    scores_percent = scores.mean()*100\n",
    "    k_scores.append(scores_percent)\n",
    "    k_st.append(scores.std())\n",
    "    print(l, scores_percent, scores.std())"
   ]
  },
  {
   "cell_type": "code",
   "execution_count": 18,
   "metadata": {},
   "outputs": [
    {
     "name": "stdout",
     "output_type": "stream",
     "text": [
      "[99.67391304347825, 99.347561631065, 98.83978729375058, 98.44097116194119]\n",
      "4\n"
     ]
    }
   ],
   "source": [
    "print(k_scores)\n",
    "print(len(k_scores))"
   ]
  },
  {
   "cell_type": "code",
   "execution_count": 19,
   "metadata": {},
   "outputs": [
    {
     "name": "stdout",
     "output_type": "stream",
     "text": [
      "[0.00750446202072753, 0.008069462932553586, 0.011206393551192535, 0.014047991219857862]\n",
      "4\n"
     ]
    }
   ],
   "source": [
    "print(k_st)\n",
    "print(len(k_st))"
   ]
  },
  {
   "cell_type": "code",
   "execution_count": 20,
   "metadata": {},
   "outputs": [
    {
     "data": {
      "image/png": "[encoded data removed]",
      "text/plain": [
       "<Figure size 720x720 with 1 Axes>"
      ]
     },
     "metadata": {
      "needs_background": "light"
     },
     "output_type": "display_data"
    }
   ],
   "source": [
    "fig_size = plt.rcParams[\"figure.figsize\"] \n",
    "fig_size[0] = 10  \n",
    "fig_size[1] = 10\n",
    "\n",
    "plt.errorbar(range(1,5), k_scores, k_st, marker='.')\n",
    "plt.xlabel(\"Value of k for KNN\")\n",
    "plt.ylabel(\"Cross-validated Accuracy '%'\")\n",
    "\n",
    "\n",
    "plt.show()"
   ]
  },
  {
   "cell_type": "code",
   "execution_count": 50,
   "metadata": {},
   "outputs": [],
   "source": [
    "predict = cross_val_predict (selected_classifier,\n",
    "                          read_dependent_file,\n",
    "                          y,\n",
    "                          cv = 10)\n"
   ]
  },
  {
   "cell_type": "code",
   "execution_count": 51,
   "metadata": {},
   "outputs": [
    {
     "data": {
      "text/plain": [
       "array([0, 0, 0, ..., 1, 1, 1])"
      ]
     },
     "execution_count": 51,
     "metadata": {},
     "output_type": "execute_result"
    }
   ],
   "source": [
    "predict"
   ]
  },
  {
   "cell_type": "code",
   "execution_count": 52,
   "metadata": {},
   "outputs": [],
   "source": [
    "accuracy = metrics.accuracy_score(y, predict) \n",
    "\n"
   ]
  },
  {
   "cell_type": "code",
   "execution_count": 53,
   "metadata": {},
   "outputs": [
    {
     "data": {
      "text/plain": [
       "0.980441868888084"
      ]
     },
     "execution_count": 53,
     "metadata": {},
     "output_type": "execute_result"
    }
   ],
   "source": [
    "accuracy"
   ]
  },
  {
   "cell_type": "code",
   "execution_count": 54,
   "metadata": {},
   "outputs": [],
   "source": [
    "confusion_matrix_result_matrix2 = confusion_matrix(y,predict)"
   ]
  },
  {
   "cell_type": "code",
   "execution_count": 55,
   "metadata": {
    "scrolled": true
   },
   "outputs": [
    {
     "data": {
      "text/plain": [
       "array([[2160,   53],\n",
       "       [   1,  547]])"
      ]
     },
     "execution_count": 55,
     "metadata": {},
     "output_type": "execute_result"
    }
   ],
   "source": [
    "confusion_matrix_result_matrix2"
   ]
  },
  {
   "cell_type": "code",
   "execution_count": 56,
   "metadata": {},
   "outputs": [
    {
     "data": {
      "image/png": "[encoded data removed]",
      "text/plain": [
       "<Figure size 720x720 with 1 Axes>"
      ]
     },
     "metadata": {
      "needs_background": "light"
     },
     "output_type": "display_data"
    }
   ],
   "source": [
    "fig_size = plt.rcParams[\"figure.figsize\"] \n",
    "fig_size[0] = 10  \n",
    "fig_size[1] = 10\n",
    "\n",
    "\n",
    "\n",
    "\n",
    "fpr, tpr, thresholds = metrics.roc_curve(y, predict)\n",
    "metrics.auc(fpr, tpr)\n",
    "plt.plot(fpr, tpr)\n",
    "plt.xlabel('False Positive Rate (1 - specificity)',fontsize=20)\n",
    "plt.ylabel('True Positive Rate (sensitivity)',fontsize=20)\n",
    "\n",
    "plt.xticks(fontsize=15)\n",
    "plt.yticks(fontsize=15)\n",
    "\n",
    "\n",
    "# plt.title('ROC curve for AML KNN-classifier')\n",
    "plt.grid(linestyle='dotted')\n",
    "\n",
    "\n",
    "\n",
    "\n",
    "title = \"ROC curve for AML KNN-classifier.png\"\n",
    "\n",
    "\n",
    "plt.savefig(title,bbox_inches='tight')\n",
    "plt.show() \n",
    "\n",
    "\n",
    "img = Image.open(title)\n",
    "title1 = title.split(\".\")[0]\n",
    "img.save(title+'.tiff')\n",
    "os.remove(title)"
   ]
  },
  {
   "cell_type": "code",
   "execution_count": 57,
   "metadata": {},
   "outputs": [
    {
     "data": {
      "text/plain": [
       "(3,)"
      ]
     },
     "execution_count": 57,
     "metadata": {},
     "output_type": "execute_result"
    }
   ],
   "source": [
    "tpr.shape"
   ]
  },
  {
   "cell_type": "code",
   "execution_count": 58,
   "metadata": {},
   "outputs": [],
   "source": [
    "auc_score = metrics.roc_auc_score(y, predict)\n",
    "\n"
   ]
  },
  {
   "cell_type": "code",
   "execution_count": 59,
   "metadata": {},
   "outputs": [
    {
     "data": {
      "text/plain": [
       "0.9871128962566915"
      ]
     },
     "execution_count": 59,
     "metadata": {},
     "output_type": "execute_result"
    }
   ],
   "source": [
    "auc_score"
   ]
  },
  {
   "cell_type": "code",
   "execution_count": null,
   "metadata": {},
   "outputs": [],
   "source": []
  }
 ],
 "metadata": {
  "kernelspec": {
   "display_name": "Python 3.10.6 64-bit",
   "language": "python",
   "name": "python3"
  },
  "language_info": {
   "codemirror_mode": {
    "name": "ipython",
    "version": 3
   },
   "file_extension": ".py",
   "mimetype": "text/x-python",
   "name": "python",
   "nbconvert_exporter": "python",
   "pygments_lexer": "ipython3",
   "version": "3.10.6"
  },
  "vscode": {
   "interpreter": {
    "hash": "31f2aee4e71d21fbe5cf8b01ff0e069b9275f58929596ceb00d14d90e3e16cd6"
   }
  }
 },
 "nbformat": 4,
 "nbformat_minor": 2
}
